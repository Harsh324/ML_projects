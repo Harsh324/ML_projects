{
 "cells": [
  {
   "cell_type": "markdown",
   "id": "a6d1322c-60de-4270-bdd7-08ea17f3ef8c",
   "metadata": {},
   "source": [
    "# Diabetes prediction ML Model"
   ]
  },
  {
   "cell_type": "markdown",
   "id": "a602fb73-1b2a-4d78-ba6d-861aa638c342",
   "metadata": {},
   "source": [
    "## Importing important Libraries"
   ]
  },
  {
   "cell_type": "code",
   "execution_count": 1,
   "id": "29b8ef78-557f-4492-a47c-8fc27d60131c",
   "metadata": {},
   "outputs": [],
   "source": [
    "import pandas as pd\n",
    "import numpy as np\n",
    "from sklearn import datasets"
   ]
  },
  {
   "cell_type": "markdown",
   "id": "36968d9a-4886-44e8-89d0-6a25c1ec4956",
   "metadata": {},
   "source": [
    "### Loading the data from sklearn dataset"
   ]
  },
  {
   "cell_type": "code",
   "execution_count": 2,
   "id": "57959bdb-effa-4bbd-8a10-f11fef30fd26",
   "metadata": {},
   "outputs": [],
   "source": [
    "Data = datasets.load_diabetes()"
   ]
  },
  {
   "cell_type": "markdown",
   "id": "399bd73f-b8a9-4ce1-9d72-ce6863f090cd",
   "metadata": {},
   "source": [
    "### Converting the dataset in pandas dataframe"
   ]
  },
  {
   "cell_type": "code",
   "execution_count": 3,
   "id": "d3ab1d11-e27e-4062-a296-4678b8a196bf",
   "metadata": {},
   "outputs": [],
   "source": [
    "## Data.feature_names contains all features\n",
    "## Data.target contains the labes\n",
    "Diabetes = pd.DataFrame(Data.data, columns = Data.feature_names)\n",
    "## Adding the label column to the dataframe\n",
    "Diabetes = Diabetes.assign(target = Data.target)"
   ]
  },
  {
   "cell_type": "markdown",
   "id": "0be14ffa-1f94-48cd-b8a4-f4fbdfd29eba",
   "metadata": {},
   "source": [
    "### Generating the data information"
   ]
  },
  {
   "cell_type": "code",
   "execution_count": 4,
   "id": "5660a403-4951-41b8-bfed-0b3a1fc65836",
   "metadata": {},
   "outputs": [],
   "source": [
    "#Diabetes.info()\n",
    "#Diabetes.shape\n",
    "#Diabetes.describe()\n",
    "## You can see there is no null value in our data , \n",
    "## no data is missing hence our data is fine to start"
   ]
  },
  {
   "cell_type": "markdown",
   "id": "c4812d3f-7254-4707-b218-b316f4f0126e",
   "metadata": {},
   "source": [
    "### Plotting the histogram"
   ]
  },
  {
   "cell_type": "code",
   "execution_count": 5,
   "id": "9b228961-ce74-490b-b34f-d9e5ba7a6747",
   "metadata": {},
   "outputs": [],
   "source": [
    "#Diabetes.hist(bins = 50, figsize = (10, 15))"
   ]
  },
  {
   "cell_type": "markdown",
   "id": "1da44c30-510f-4a14-960c-db33e71d34f7",
   "metadata": {},
   "source": [
    "## Splitting the data in training and testing \n",
    "### Again sklearn comes to rescue"
   ]
  },
  {
   "cell_type": "code",
   "execution_count": 6,
   "id": "14bdd475-cb34-4335-a423-7196ef6d0d18",
   "metadata": {},
   "outputs": [
    {
     "name": "stdout",
     "output_type": "stream",
     "text": [
      "Rows in train set : 353\n",
      "Rows in test set: 89\n",
      "\n"
     ]
    }
   ],
   "source": [
    "from sklearn.model_selection import train_test_split\n",
    "Train_set, Test_set = train_test_split(Diabetes, test_size = 0.2, random_state = 42)\n",
    "print(f\"Rows in train set : {len(Train_set)}\\nRows in test set: {len(Test_set)}\\n\")"
   ]
  },
  {
   "cell_type": "markdown",
   "id": "8e7e5b72-41ce-467f-aee7-2ca1e243ee5a",
   "metadata": {},
   "source": [
    "### Look for correlations"
   ]
  },
  {
   "cell_type": "code",
   "execution_count": 7,
   "id": "0b9eb983-c610-4869-98f4-4bc0db42b8c5",
   "metadata": {},
   "outputs": [],
   "source": [
    "Correlation = Diabetes.corr()\n",
    "#Correlation['target'].sort_values(ascending = False)"
   ]
  },
  {
   "cell_type": "code",
   "execution_count": 8,
   "id": "82f924f4-20f9-4e9c-947a-22e3f4f1253a",
   "metadata": {},
   "outputs": [],
   "source": [
    "from pandas.plotting import scatter_matrix\n",
    "Var = ['target', 'bmi', 's5', 'bp']\n",
    "#scatter_matrix(Diabetes[Var], figsize = (12, 8))"
   ]
  },
  {
   "cell_type": "markdown",
   "id": "de5b23ed-5477-42b2-9304-7e71629decad",
   "metadata": {},
   "source": [
    "#### as per the scatter matrix we can se that bmi is most correlated, with increase in bmi diabete risk increases"
   ]
  },
  {
   "cell_type": "code",
   "execution_count": 9,
   "id": "baaf3ee3-7bd2-4c1f-9d0e-90649988cb38",
   "metadata": {},
   "outputs": [],
   "source": [
    "Training = Train_set.drop('target', axis = 1)\n",
    "Training_labels = Train_set['target'].copy()"
   ]
  },
  {
   "cell_type": "code",
   "execution_count": null,
   "id": "9333f261-98f1-44f0-9db1-77f34395d2aa",
   "metadata": {},
   "outputs": [],
   "source": []
  },
  {
   "cell_type": "markdown",
   "id": "7a34637f-59c9-4c90-8e0b-8bee83dfaafd",
   "metadata": {},
   "source": [
    "## the data is normalised hence we need not to normalize it"
   ]
  },
  {
   "cell_type": "code",
   "execution_count": 10,
   "id": "fa802354-0bed-4239-9f05-c226d94ca1ac",
   "metadata": {},
   "outputs": [],
   "source": [
    "from sklearn.linear_model import LinearRegression\n",
    "from sklearn.tree import DecisionTreeRegressor\n",
    "from sklearn.ensemble import RandomForestRegressor\n",
    "#from lightgbm import LGBMRegressor\n",
    "#from xgboost.sklearn import XGBRegressor\n",
    "#from catboost import CatBoostRegressor\n",
    "from sklearn.linear_model import SGDRegressor\n",
    "from sklearn.kernel_ridge import KernelRidge\n",
    "from sklearn.linear_model import ElasticNet\n",
    "from sklearn.linear_model import BayesianRidge\n",
    "from sklearn.ensemble import GradientBoostingRegressor\n",
    "from sklearn.svm import SVR"
   ]
  },
  {
   "cell_type": "code",
   "execution_count": 11,
   "id": "e20c57b6-41b1-4a7a-b099-f98e10040135",
   "metadata": {},
   "outputs": [
    {
     "data": {
      "text/plain": [
       "BayesianRidge()"
      ]
     },
     "execution_count": 11,
     "metadata": {},
     "output_type": "execute_result"
    }
   ],
   "source": [
    "#model = DecisionTreeRegressor()\n",
    "#model = LinearRegression()\n",
    "#model = RandomForestRegressor()\n",
    "#model = GradientBoostingRegressor()\n",
    "model = BayesianRidge()\n",
    "model.fit(Training, Training_labels)"
   ]
  },
  {
   "cell_type": "code",
   "execution_count": 12,
   "id": "09b6ba6b-5cff-4266-b630-9bb6918c3ee2",
   "metadata": {},
   "outputs": [
    {
     "data": {
      "text/plain": [
       "array([183.6250789 , 147.52246328, 232.3683276 , 103.12751859,\n",
       "        66.26325879])"
      ]
     },
     "execution_count": 12,
     "metadata": {},
     "output_type": "execute_result"
    }
   ],
   "source": [
    "some_data = Training.iloc[:5]\n",
    "some_labels = Training_labels.iloc[:5]\n",
    "model.predict(some_data)"
   ]
  },
  {
   "cell_type": "code",
   "execution_count": 13,
   "id": "aa2b7df0-b601-4ad6-947a-149a04a7ea05",
   "metadata": {},
   "outputs": [
    {
     "data": {
      "text/plain": [
       "[144.0, 150.0, 280.0, 125.0, 59.0]"
      ]
     },
     "execution_count": 13,
     "metadata": {},
     "output_type": "execute_result"
    }
   ],
   "source": [
    "list(some_labels)"
   ]
  },
  {
   "cell_type": "markdown",
   "id": "09ce18fa-33f8-459e-b34d-05571ab2bf3f",
   "metadata": {},
   "source": [
    "## Evaluating model"
   ]
  },
  {
   "cell_type": "code",
   "execution_count": 14,
   "id": "580f334a-505a-48b3-8892-736e7434d65e",
   "metadata": {},
   "outputs": [
    {
     "data": {
      "text/plain": [
       "53.77321054488471"
      ]
     },
     "execution_count": 14,
     "metadata": {},
     "output_type": "execute_result"
    }
   ],
   "source": [
    "from sklearn.metrics import mean_squared_error\n",
    "predictions = model.predict(Training)\n",
    "error = mean_squared_error(Training_labels, predictions)\n",
    "merror = np.sqrt(error)\n",
    "merror"
   ]
  },
  {
   "cell_type": "markdown",
   "id": "5f5d5ca2-cb6a-44c8-a169-bae0987a7977",
   "metadata": {},
   "source": [
    "## Using cross - validation technique"
   ]
  },
  {
   "cell_type": "code",
   "execution_count": 15,
   "id": "a0f915d7-9bdb-40ec-b671-241d92396aeb",
   "metadata": {},
   "outputs": [],
   "source": [
    "from sklearn.model_selection import cross_val_score\n",
    "scores = cross_val_score(model, Training, Training_labels, scoring = \"neg_mean_squared_error\", cv = 10)\n",
    "rmse_scores = np.sqrt(-scores)"
   ]
  },
  {
   "cell_type": "code",
   "execution_count": 17,
   "id": "bdc8aa6f-2ccf-4044-a41f-47413e0e6dc9",
   "metadata": {},
   "outputs": [],
   "source": [
    "def print_scores(scores):\n",
    "    print(\"Scores: \", scores)\n",
    "    print(\"Mean: \", scores.mean())\n",
    "    print(\"Standard deviation: \", scores.std())"
   ]
  },
  {
   "cell_type": "code",
   "execution_count": 18,
   "id": "e7ff8db7-fc33-48c7-99cf-73e03c47de05",
   "metadata": {},
   "outputs": [
    {
     "name": "stdout",
     "output_type": "stream",
     "text": [
      "Scores:  [50.40816089 57.86191319 51.52681867 60.31454969 57.80832438 46.98986891\n",
      " 51.99137564 61.16260384 57.17619809 60.82708069]\n",
      "Mean:  55.606689399775746\n",
      "Standard deviation:  4.729390447768342\n"
     ]
    }
   ],
   "source": [
    "print_scores(rmse_scores)"
   ]
  },
  {
   "cell_type": "markdown",
   "id": "30894e53-d342-4dc4-93d2-90218cb5ea5e",
   "metadata": {},
   "source": [
    "### Saving the model"
   ]
  },
  {
   "cell_type": "code",
   "execution_count": 19,
   "id": "1c502316-1a1a-4e95-9197-740b1ea85663",
   "metadata": {},
   "outputs": [
    {
     "data": {
      "text/plain": [
       "['Diabetes_prediction.loblib']"
      ]
     },
     "execution_count": 19,
     "metadata": {},
     "output_type": "execute_result"
    }
   ],
   "source": [
    "from joblib import dump, load\n",
    "dump(model, 'Diabetes_prediction.loblib')"
   ]
  },
  {
   "cell_type": "markdown",
   "id": "d7038cca-0535-4db8-a181-731b93738ad5",
   "metadata": {},
   "source": [
    "## Testing the model"
   ]
  },
  {
   "cell_type": "code",
   "execution_count": 26,
   "id": "75197c42-1e6d-4f9b-9bb3-a0dee56ba2e3",
   "metadata": {},
   "outputs": [
    {
     "name": "stdout",
     "output_type": "stream",
     "text": [
      "[141.5617479  179.96620906 140.53525685 291.57179878 122.94159211\n",
      "  95.47131909 255.04724939 187.57930472  86.1364612  112.35726439\n",
      "  96.11127738 161.45098629  64.16902273 205.57828203 100.7645814\n",
      " 132.76763569 221.14310461 245.98066464 194.68648192 214.07456256\n",
      " 205.28792187  90.00453678  73.70817256 188.11287193 155.60992841\n",
      " 162.21392555 188.85435449 176.84582252  51.24071387 112.39837981\n",
      " 179.52545636  92.34653105 132.32891287 180.96468991 173.18806678\n",
      " 190.63760322 123.82718443 119.77420331 147.28318126  62.11014582\n",
      "  76.56326349 109.22391313 161.54042933 150.90643587 174.48119211\n",
      "  66.55096445  79.44015776 107.80131061  59.58935236 160.5666605\n",
      " 155.49248931  66.46358919 114.33903057 108.98074083 170.72617549\n",
      " 158.43899426  96.06993751 206.473847   118.17323463  70.39417503\n",
      " 184.71845794 200.98864486 141.48287348 107.02533081 126.88969446\n",
      " 202.04620341 167.80956319 161.78987853 118.35196773 141.25146549\n",
      " 179.8105877  195.16286783 234.98178618 143.03571492  83.32076168\n",
      " 151.95914043 193.49593937 204.52141002 158.26983375 198.59038464\n",
      " 114.35519873 136.65605658  55.47777042  58.18572704 112.48412519\n",
      "  85.77406426  80.96829297  62.53719578 162.91320036] [219.0, 70.0, 202.0, 230.0, 111.0, 84.0, 242.0, 272.0, 94.0, 96.0, 94.0, 252.0, 99.0, 297.0, 135.0, 67.0, 295.0, 264.0, 170.0, 275.0, 310.0, 64.0, 128.0, 232.0, 129.0, 118.0, 263.0, 77.0, 48.0, 107.0, 140.0, 113.0, 90.0, 164.0, 180.0, 233.0, 42.0, 84.0, 172.0, 63.0, 48.0, 108.0, 156.0, 168.0, 90.0, 52.0, 200.0, 87.0, 90.0, 258.0, 136.0, 158.0, 69.0, 72.0, 171.0, 95.0, 72.0, 151.0, 168.0, 60.0, 122.0, 52.0, 187.0, 102.0, 214.0, 248.0, 181.0, 110.0, 140.0, 202.0, 101.0, 222.0, 281.0, 61.0, 89.0, 91.0, 186.0, 220.0, 237.0, 233.0, 68.0, 190.0, 96.0, 72.0, 153.0, 98.0, 37.0, 63.0, 184.0]\n"
     ]
    }
   ],
   "source": [
    "Testing = Test_set.drop('target', axis = 1)\n",
    "Testing_label = Test_set['target'].copy()\n",
    "final_prediction = model.predict(Testing)\n",
    "final_mse = mean_squared_error(Testing_label, final_prediction)\n",
    "final_rmse = np.sqrt(final_mse)\n",
    "print(final_prediction, list(Testing_label))"
   ]
  },
  {
   "cell_type": "code",
   "execution_count": null,
   "id": "bc0a6123-7264-4a67-b355-813e7d37b8ca",
   "metadata": {},
   "outputs": [],
   "source": []
  }
 ],
 "metadata": {
  "kernelspec": {
   "display_name": "Python 3",
   "language": "python",
   "name": "python3"
  },
  "language_info": {
   "codemirror_mode": {
    "name": "ipython",
    "version": 3
   },
   "file_extension": ".py",
   "mimetype": "text/x-python",
   "name": "python",
   "nbconvert_exporter": "python",
   "pygments_lexer": "ipython3",
   "version": "3.8.8"
  }
 },
 "nbformat": 4,
 "nbformat_minor": 5
}

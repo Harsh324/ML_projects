{
 "cells": [
  {
   "cell_type": "code",
   "execution_count": 1,
   "id": "c639869e-f178-430a-b65d-d5a8320d7cce",
   "metadata": {},
   "outputs": [],
   "source": [
    "import pandas as pd\n",
    "import numpy as np\n",
    "from sklearn import datasets"
   ]
  },
  {
   "cell_type": "code",
   "execution_count": 2,
   "id": "3178f2d0-b9b9-4b8c-b124-81c470783b22",
   "metadata": {},
   "outputs": [],
   "source": [
    "Data = datasets.load_diabetes()"
   ]
  },
  {
   "cell_type": "code",
   "execution_count": 3,
   "id": "23deaec4-3f69-4d6b-a713-a11dfa79040c",
   "metadata": {},
   "outputs": [],
   "source": [
    "## Data.feature_names contains all features\n",
    "## Data.target contains the labes\n",
    "Diabetes = pd.DataFrame(Data.data, columns = Data.feature_names)\n",
    "## Adding the label column to the dataframe\n",
    "Diabetes = Diabetes.assign(target = Data.target)"
   ]
  },
  {
   "cell_type": "code",
   "execution_count": 4,
   "id": "af6a090d-a867-4576-9132-a5bb0700d977",
   "metadata": {},
   "outputs": [
    {
     "data": {
      "text/plain": [
       "target    1.000000\n",
       "bmi       0.586450\n",
       "s5        0.565883\n",
       "bp        0.441484\n",
       "s4        0.430453\n",
       "s6        0.382483\n",
       "s1        0.212022\n",
       "age       0.187889\n",
       "s2        0.174054\n",
       "sex       0.043062\n",
       "s3       -0.394789\n",
       "Name: target, dtype: float64"
      ]
     },
     "execution_count": 4,
     "metadata": {},
     "output_type": "execute_result"
    }
   ],
   "source": [
    "Correlation = Diabetes.corr()\n",
    "Correlation['target'].sort_values(ascending = False)"
   ]
  },
  {
   "cell_type": "markdown",
   "id": "e7306dfc-0c9a-42f5-8009-b04e698344f7",
   "metadata": {},
   "source": [
    "### Since bmi, s5, bp, s4 having high corelation hence we will select these features only"
   ]
  },
  {
   "cell_type": "code",
   "execution_count": 5,
   "id": "9c6ccddd-3e1d-4991-ba8c-061bded44903",
   "metadata": {},
   "outputs": [],
   "source": [
    "Feature = ['bmi', 's5', 'bp', 's4', 'target']\n",
    "File = Diabetes[Feature]\n",
    "File_label = File['target'].copy()"
   ]
  },
  {
   "cell_type": "code",
   "execution_count": 6,
   "id": "96c4003a-c7d6-4288-8140-fb1c2214048a",
   "metadata": {},
   "outputs": [
    {
     "name": "stdout",
     "output_type": "stream",
     "text": [
      "Rows in train set : 353\n",
      "Rows in test set: 89\n",
      "\n"
     ]
    }
   ],
   "source": [
    "from sklearn.model_selection import train_test_split\n",
    "Train_set, Test_set = train_test_split(File, test_size = 0.2, random_state = 42)\n",
    "print(f\"Rows in train set : {len(Train_set)}\\nRows in test set: {len(Test_set)}\\n\")"
   ]
  },
  {
   "cell_type": "code",
   "execution_count": 7,
   "id": "9b057108-632f-46ad-8ddf-cd7e78a1f125",
   "metadata": {},
   "outputs": [],
   "source": [
    "train = Train_set.drop('target', axis = 1)\n",
    "train_label = Train_set['target'].copy()"
   ]
  },
  {
   "cell_type": "code",
   "execution_count": 8,
   "id": "e5166656-eef1-44c6-8cd9-c7a9a81f0927",
   "metadata": {},
   "outputs": [],
   "source": [
    "from sklearn.linear_model import LinearRegression\n",
    "from sklearn.tree import DecisionTreeRegressor\n",
    "from sklearn.ensemble import RandomForestRegressor"
   ]
  },
  {
   "cell_type": "code",
   "execution_count": 9,
   "id": "282181d0-80b2-430e-890d-cc71ac20fcf0",
   "metadata": {},
   "outputs": [
    {
     "data": {
      "text/plain": [
       "RandomForestRegressor()"
      ]
     },
     "execution_count": 9,
     "metadata": {},
     "output_type": "execute_result"
    }
   ],
   "source": [
    "#model = DecisionTreeRegressor()\n",
    "#model = LinearRegression()\n",
    "model = RandomForestRegressor()\n",
    "model.fit(train, train_label)"
   ]
  },
  {
   "cell_type": "code",
   "execution_count": 10,
   "id": "616aa6b4-8690-4d99-89ee-69d71b612aeb",
   "metadata": {},
   "outputs": [
    {
     "data": {
      "text/plain": [
       "array([224.34,  95.68, 160.7 , 186.49, 117.32])"
      ]
     },
     "execution_count": 10,
     "metadata": {},
     "output_type": "execute_result"
    }
   ],
   "source": [
    "some_data = File.drop('target', axis = 1).iloc[:5]\n",
    "some_labels = File_label.iloc[:5]\n",
    "model.predict(some_data)"
   ]
  },
  {
   "cell_type": "code",
   "execution_count": 11,
   "id": "a49bd075-2430-4098-a042-637c781f72e8",
   "metadata": {},
   "outputs": [
    {
     "data": {
      "text/plain": [
       "[151.0, 75.0, 141.0, 206.0, 135.0]"
      ]
     },
     "execution_count": 11,
     "metadata": {},
     "output_type": "execute_result"
    }
   ],
   "source": [
    "list(some_labels)"
   ]
  },
  {
   "cell_type": "code",
   "execution_count": 12,
   "id": "5593b25e-182d-48c1-bb92-e6f059178244",
   "metadata": {},
   "outputs": [
    {
     "data": {
      "text/html": [
       "<div>\n",
       "<style scoped>\n",
       "    .dataframe tbody tr th:only-of-type {\n",
       "        vertical-align: middle;\n",
       "    }\n",
       "\n",
       "    .dataframe tbody tr th {\n",
       "        vertical-align: top;\n",
       "    }\n",
       "\n",
       "    .dataframe thead th {\n",
       "        text-align: right;\n",
       "    }\n",
       "</style>\n",
       "<table border=\"1\" class=\"dataframe\">\n",
       "  <thead>\n",
       "    <tr style=\"text-align: right;\">\n",
       "      <th></th>\n",
       "      <th>bmi</th>\n",
       "      <th>s5</th>\n",
       "      <th>bp</th>\n",
       "      <th>s4</th>\n",
       "    </tr>\n",
       "  </thead>\n",
       "  <tbody>\n",
       "    <tr>\n",
       "      <th>0</th>\n",
       "      <td>0.061696</td>\n",
       "      <td>0.019908</td>\n",
       "      <td>0.021872</td>\n",
       "      <td>-0.002592</td>\n",
       "    </tr>\n",
       "    <tr>\n",
       "      <th>1</th>\n",
       "      <td>-0.051474</td>\n",
       "      <td>-0.068330</td>\n",
       "      <td>-0.026328</td>\n",
       "      <td>-0.039493</td>\n",
       "    </tr>\n",
       "    <tr>\n",
       "      <th>2</th>\n",
       "      <td>0.044451</td>\n",
       "      <td>0.002864</td>\n",
       "      <td>-0.005671</td>\n",
       "      <td>-0.002592</td>\n",
       "    </tr>\n",
       "    <tr>\n",
       "      <th>3</th>\n",
       "      <td>-0.011595</td>\n",
       "      <td>0.022692</td>\n",
       "      <td>-0.036656</td>\n",
       "      <td>0.034309</td>\n",
       "    </tr>\n",
       "    <tr>\n",
       "      <th>4</th>\n",
       "      <td>-0.036385</td>\n",
       "      <td>-0.031991</td>\n",
       "      <td>0.021872</td>\n",
       "      <td>-0.002592</td>\n",
       "    </tr>\n",
       "  </tbody>\n",
       "</table>\n",
       "</div>"
      ],
      "text/plain": [
       "        bmi        s5        bp        s4\n",
       "0  0.061696  0.019908  0.021872 -0.002592\n",
       "1 -0.051474 -0.068330 -0.026328 -0.039493\n",
       "2  0.044451  0.002864 -0.005671 -0.002592\n",
       "3 -0.011595  0.022692 -0.036656  0.034309\n",
       "4 -0.036385 -0.031991  0.021872 -0.002592"
      ]
     },
     "execution_count": 12,
     "metadata": {},
     "output_type": "execute_result"
    }
   ],
   "source": [
    "some_data"
   ]
  },
  {
   "cell_type": "code",
   "execution_count": null,
   "id": "9f8f9b38-a615-4ba1-a16d-f70806eace35",
   "metadata": {},
   "outputs": [],
   "source": []
  }
 ],
 "metadata": {
  "kernelspec": {
   "display_name": "Python 3",
   "language": "python",
   "name": "python3"
  },
  "language_info": {
   "codemirror_mode": {
    "name": "ipython",
    "version": 3
   },
   "file_extension": ".py",
   "mimetype": "text/x-python",
   "name": "python",
   "nbconvert_exporter": "python",
   "pygments_lexer": "ipython3",
   "version": "3.8.8"
  }
 },
 "nbformat": 4,
 "nbformat_minor": 5
}

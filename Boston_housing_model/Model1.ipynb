{
 "cells": [
  {
   "cell_type": "markdown",
   "id": "0b1a8bbb-94f9-4088-9ef5-10b9ac7a5c86",
   "metadata": {},
   "source": [
    "# Diabetes prediction model "
   ]
  },
  {
   "cell_type": "code",
   "execution_count": 1,
   "id": "bb1076be-c37e-42de-9342-36e35a3bace7",
   "metadata": {},
   "outputs": [],
   "source": [
    "# Importing libraries\n",
    "import pandas as pd\n",
    "import numpy as np"
   ]
  },
  {
   "cell_type": "code",
   "execution_count": 2,
   "id": "57f5cc45-bd45-4c30-b7a8-d07aacb673ca",
   "metadata": {},
   "outputs": [
    {
     "data": {
      "text/html": [
       "<div>\n",
       "<style scoped>\n",
       "    .dataframe tbody tr th:only-of-type {\n",
       "        vertical-align: middle;\n",
       "    }\n",
       "\n",
       "    .dataframe tbody tr th {\n",
       "        vertical-align: top;\n",
       "    }\n",
       "\n",
       "    .dataframe thead th {\n",
       "        text-align: right;\n",
       "    }\n",
       "</style>\n",
       "<table border=\"1\" class=\"dataframe\">\n",
       "  <thead>\n",
       "    <tr style=\"text-align: right;\">\n",
       "      <th></th>\n",
       "      <th>Pregnancies</th>\n",
       "      <th>Glucose</th>\n",
       "      <th>BloodPressure</th>\n",
       "      <th>SkinThickness</th>\n",
       "      <th>Insulin</th>\n",
       "      <th>BMI</th>\n",
       "      <th>DiabetesPedigreeFunction</th>\n",
       "      <th>Age</th>\n",
       "      <th>Outcome</th>\n",
       "    </tr>\n",
       "  </thead>\n",
       "  <tbody>\n",
       "    <tr>\n",
       "      <th>0</th>\n",
       "      <td>6</td>\n",
       "      <td>148</td>\n",
       "      <td>72</td>\n",
       "      <td>35</td>\n",
       "      <td>0</td>\n",
       "      <td>33.6</td>\n",
       "      <td>0.627</td>\n",
       "      <td>50</td>\n",
       "      <td>1</td>\n",
       "    </tr>\n",
       "    <tr>\n",
       "      <th>1</th>\n",
       "      <td>1</td>\n",
       "      <td>85</td>\n",
       "      <td>66</td>\n",
       "      <td>29</td>\n",
       "      <td>0</td>\n",
       "      <td>26.6</td>\n",
       "      <td>0.351</td>\n",
       "      <td>31</td>\n",
       "      <td>0</td>\n",
       "    </tr>\n",
       "    <tr>\n",
       "      <th>2</th>\n",
       "      <td>8</td>\n",
       "      <td>183</td>\n",
       "      <td>64</td>\n",
       "      <td>0</td>\n",
       "      <td>0</td>\n",
       "      <td>23.3</td>\n",
       "      <td>0.672</td>\n",
       "      <td>32</td>\n",
       "      <td>1</td>\n",
       "    </tr>\n",
       "    <tr>\n",
       "      <th>3</th>\n",
       "      <td>1</td>\n",
       "      <td>89</td>\n",
       "      <td>66</td>\n",
       "      <td>23</td>\n",
       "      <td>94</td>\n",
       "      <td>28.1</td>\n",
       "      <td>0.167</td>\n",
       "      <td>21</td>\n",
       "      <td>0</td>\n",
       "    </tr>\n",
       "    <tr>\n",
       "      <th>4</th>\n",
       "      <td>0</td>\n",
       "      <td>137</td>\n",
       "      <td>40</td>\n",
       "      <td>35</td>\n",
       "      <td>168</td>\n",
       "      <td>43.1</td>\n",
       "      <td>2.288</td>\n",
       "      <td>33</td>\n",
       "      <td>1</td>\n",
       "    </tr>\n",
       "    <tr>\n",
       "      <th>...</th>\n",
       "      <td>...</td>\n",
       "      <td>...</td>\n",
       "      <td>...</td>\n",
       "      <td>...</td>\n",
       "      <td>...</td>\n",
       "      <td>...</td>\n",
       "      <td>...</td>\n",
       "      <td>...</td>\n",
       "      <td>...</td>\n",
       "    </tr>\n",
       "    <tr>\n",
       "      <th>763</th>\n",
       "      <td>10</td>\n",
       "      <td>101</td>\n",
       "      <td>76</td>\n",
       "      <td>48</td>\n",
       "      <td>180</td>\n",
       "      <td>32.9</td>\n",
       "      <td>0.171</td>\n",
       "      <td>63</td>\n",
       "      <td>0</td>\n",
       "    </tr>\n",
       "    <tr>\n",
       "      <th>764</th>\n",
       "      <td>2</td>\n",
       "      <td>122</td>\n",
       "      <td>70</td>\n",
       "      <td>27</td>\n",
       "      <td>0</td>\n",
       "      <td>36.8</td>\n",
       "      <td>0.340</td>\n",
       "      <td>27</td>\n",
       "      <td>0</td>\n",
       "    </tr>\n",
       "    <tr>\n",
       "      <th>765</th>\n",
       "      <td>5</td>\n",
       "      <td>121</td>\n",
       "      <td>72</td>\n",
       "      <td>23</td>\n",
       "      <td>112</td>\n",
       "      <td>26.2</td>\n",
       "      <td>0.245</td>\n",
       "      <td>30</td>\n",
       "      <td>0</td>\n",
       "    </tr>\n",
       "    <tr>\n",
       "      <th>766</th>\n",
       "      <td>1</td>\n",
       "      <td>126</td>\n",
       "      <td>60</td>\n",
       "      <td>0</td>\n",
       "      <td>0</td>\n",
       "      <td>30.1</td>\n",
       "      <td>0.349</td>\n",
       "      <td>47</td>\n",
       "      <td>1</td>\n",
       "    </tr>\n",
       "    <tr>\n",
       "      <th>767</th>\n",
       "      <td>1</td>\n",
       "      <td>93</td>\n",
       "      <td>70</td>\n",
       "      <td>31</td>\n",
       "      <td>0</td>\n",
       "      <td>30.4</td>\n",
       "      <td>0.315</td>\n",
       "      <td>23</td>\n",
       "      <td>0</td>\n",
       "    </tr>\n",
       "  </tbody>\n",
       "</table>\n",
       "<p>768 rows × 9 columns</p>\n",
       "</div>"
      ],
      "text/plain": [
       "     Pregnancies  Glucose  BloodPressure  SkinThickness  Insulin   BMI  \\\n",
       "0              6      148             72             35        0  33.6   \n",
       "1              1       85             66             29        0  26.6   \n",
       "2              8      183             64              0        0  23.3   \n",
       "3              1       89             66             23       94  28.1   \n",
       "4              0      137             40             35      168  43.1   \n",
       "..           ...      ...            ...            ...      ...   ...   \n",
       "763           10      101             76             48      180  32.9   \n",
       "764            2      122             70             27        0  36.8   \n",
       "765            5      121             72             23      112  26.2   \n",
       "766            1      126             60              0        0  30.1   \n",
       "767            1       93             70             31        0  30.4   \n",
       "\n",
       "     DiabetesPedigreeFunction  Age  Outcome  \n",
       "0                       0.627   50        1  \n",
       "1                       0.351   31        0  \n",
       "2                       0.672   32        1  \n",
       "3                       0.167   21        0  \n",
       "4                       2.288   33        1  \n",
       "..                        ...  ...      ...  \n",
       "763                     0.171   63        0  \n",
       "764                     0.340   27        0  \n",
       "765                     0.245   30        0  \n",
       "766                     0.349   47        1  \n",
       "767                     0.315   23        0  \n",
       "\n",
       "[768 rows x 9 columns]"
      ]
     },
     "execution_count": 2,
     "metadata": {},
     "output_type": "execute_result"
    }
   ],
   "source": [
    "## Taking Data in dataframe\n",
    "Data = pd.read_csv('diabetes.csv')\n",
    "Data"
   ]
  },
  {
   "cell_type": "code",
   "execution_count": 3,
   "id": "d74d1cd2-636c-4405-92bb-d80c8bbb078e",
   "metadata": {},
   "outputs": [
    {
     "data": {
      "text/plain": [
       "Index(['Pregnancies', 'Glucose', 'BloodPressure', 'SkinThickness', 'Insulin',\n",
       "       'BMI', 'DiabetesPedigreeFunction', 'Age', 'Outcome'],\n",
       "      dtype='object')"
      ]
     },
     "execution_count": 3,
     "metadata": {},
     "output_type": "execute_result"
    }
   ],
   "source": [
    "Data.columns"
   ]
  },
  {
   "cell_type": "code",
   "execution_count": 4,
   "id": "ca433d28-bc47-48d2-aabc-407d2230d068",
   "metadata": {},
   "outputs": [],
   "source": [
    "def Print_data_overview(Dataframe):\n",
    "    print('Shape :  ',Dataframe.shape)\n",
    "    print('Columns :  ',Dataframe.columns)\n",
    "    print('Data-missing :  ',Dataframe.isnull().sum().values.sum())"
   ]
  },
  {
   "cell_type": "code",
   "execution_count": 5,
   "id": "ecd2ccec-c2c9-4a08-9eb6-fc285d162ba0",
   "metadata": {},
   "outputs": [
    {
     "name": "stdout",
     "output_type": "stream",
     "text": [
      "Shape :   (768, 9)\n",
      "Columns :   Index(['Pregnancies', 'Glucose', 'BloodPressure', 'SkinThickness', 'Insulin',\n",
      "       'BMI', 'DiabetesPedigreeFunction', 'Age', 'Outcome'],\n",
      "      dtype='object')\n",
      "Data-missing :   0\n"
     ]
    }
   ],
   "source": [
    "Print_data_overview(Data)"
   ]
  },
  {
   "cell_type": "markdown",
   "id": "8e58b0c7",
   "metadata": {},
   "source": [
    "### In the Csv file 'Outcome' feature is the label"
   ]
  },
  {
   "cell_type": "code",
   "execution_count": 6,
   "id": "885a6fbb",
   "metadata": {},
   "outputs": [
    {
     "name": "stdout",
     "output_type": "stream",
     "text": [
      "0    500\n",
      "1    268\n",
      "Name: Outcome, dtype: int64\n"
     ]
    },
    {
     "data": {
      "text/plain": [
       "Text(0.5, 1.0, 'Diabetes Outcome')"
      ]
     },
     "execution_count": 6,
     "metadata": {},
     "output_type": "execute_result"
    },
    {
     "data": {
      "image/png": "[encoded data removed]",
      "text/plain": [
       "<Figure size 432x288 with 1 Axes>"
      ]
     },
     "metadata": {
      "needs_background": "light"
     },
     "output_type": "display_data"
    }
   ],
   "source": [
    "print(Data.Outcome.value_counts())\n",
    "Data['Outcome'].value_counts().plot(kind = 'bar').set_title('Diabetes Outcome')"
   ]
  },
  {
   "cell_type": "markdown",
   "id": "d0fcdbc0",
   "metadata": {},
   "source": [
    "### So among the data, 500 data is having no diabetes, 268 data is diabetes."
   ]
  },
  {
   "cell_type": "markdown",
   "id": "dee68638",
   "metadata": {},
   "source": [
    "### Trying to get correlation"
   ]
  },
  {
   "cell_type": "code",
   "execution_count": 7,
   "id": "374527ec",
   "metadata": {},
   "outputs": [
    {
     "data": {
      "text/plain": [
       "Outcome                     1.000000\n",
       "Glucose                     0.466581\n",
       "BMI                         0.292695\n",
       "Age                         0.238356\n",
       "Pregnancies                 0.221898\n",
       "DiabetesPedigreeFunction    0.173844\n",
       "Insulin                     0.130548\n",
       "SkinThickness               0.074752\n",
       "BloodPressure               0.065068\n",
       "Name: Outcome, dtype: float64"
      ]
     },
     "execution_count": 7,
     "metadata": {},
     "output_type": "execute_result"
    }
   ],
   "source": [
    "Correlation = Data.corr()\n",
    "Correlation['Outcome'].sort_values(ascending = False)"
   ]
  },
  {
   "cell_type": "code",
   "execution_count": 8,
   "id": "8dce10bd",
   "metadata": {},
   "outputs": [],
   "source": [
    "### Also we can observe corelation with scatter plot"
   ]
  },
  {
   "cell_type": "code",
   "execution_count": 9,
   "id": "65d1bdb1",
   "metadata": {},
   "outputs": [],
   "source": [
    "import seaborn as sns\n",
    "#sns.pairplot(Data, hue='Outcome', plot_kws=dict(alpha=.3, edgecolor='none'), height=2, aspect=1.1)\n",
    "#sns.pairplot(Data.dropna(), vars = ['Glucose', 'Insulin','BMI','SkinThickness'], size= 2.0, diag_kind='kde', hue='Outcome')"
   ]
  },
  {
   "cell_type": "markdown",
   "id": "d7939e58",
   "metadata": {},
   "source": [
    "## Now we will replace the 0 values with Nan then with median"
   ]
  },
  {
   "cell_type": "code",
   "execution_count": 10,
   "id": "3ba57cfc",
   "metadata": {},
   "outputs": [],
   "source": [
    "## We will impute fatures value with median if it is zero\n",
    "Data_Features = Data.drop('Outcome', axis = 1)\n",
    "Data_Labels = Data['Outcome']"
   ]
  },
  {
   "cell_type": "code",
   "execution_count": 11,
   "id": "0b766862",
   "metadata": {},
   "outputs": [],
   "source": [
    "def Impute(Dataframe, Features):\n",
    "    for feature in Features:\n",
    "        Dataframe[feature].replace(0, np.nan, inplace = True)\n",
    "        Dataframe[feature].replace(np.nan, Dataframe[feature].median(), inplace = True)\n",
    "    "
   ]
  },
  {
   "cell_type": "code",
   "execution_count": 12,
   "id": "78f46916",
   "metadata": {},
   "outputs": [],
   "source": [
    "Features_list = Data_Features.columns.tolist()\n",
    "Impute(Data_Features, Features_list)"
   ]
  },
  {
   "cell_type": "markdown",
   "id": "a50aebad",
   "metadata": {},
   "source": [
    "## So now we are ready to work on data"
   ]
  },
  {
   "cell_type": "code",
   "execution_count": 13,
   "id": "63407b1b",
   "metadata": {},
   "outputs": [
    {
     "data": {
      "text/plain": [
       "<AxesSubplot:>"
      ]
     },
     "execution_count": 13,
     "metadata": {},
     "output_type": "execute_result"
    },
    {
     "data": {
      "image/png": "[encoded data removed]",
      "text/plain": [
       "<Figure size 576x288 with 1 Axes>"
      ]
     },
     "metadata": {
      "needs_background": "light"
     },
     "output_type": "display_data"
    }
   ],
   "source": [
    "from sklearn.ensemble import RandomForestClassifier\n",
    "Forest = RandomForestClassifier(n_estimators = 100)\n",
    "Model = Forest.fit(Data_Features, Data_Labels)\n",
    "\n",
    "## Plotting the top features using random forest classifier\n",
    "(pd.Series(Model.feature_importances_, index = Data_Features.columns).nlargest(10).plot(kind = 'barh', figsize = [8,4]))"
   ]
  },
  {
   "cell_type": "markdown",
   "id": "6bd31438",
   "metadata": {},
   "source": [
    "### Splitting the dataset in trianing and testing"
   ]
  },
  {
   "cell_type": "code",
   "execution_count": 14,
   "id": "688b0015",
   "metadata": {},
   "outputs": [],
   "source": [
    "from sklearn.model_selection import train_test_split\n",
    "X_train, X_test, y_train, y_test = train_test_split(Data_Features, Data_Labels, test_size=.2, random_state=42, stratify=Data_Labels)"
   ]
  },
  {
   "cell_type": "code",
   "execution_count": 15,
   "id": "09363feb",
   "metadata": {},
   "outputs": [
    {
     "data": {
      "text/html": [
       "<div>\n",
       "<style scoped>\n",
       "    .dataframe tbody tr th:only-of-type {\n",
       "        vertical-align: middle;\n",
       "    }\n",
       "\n",
       "    .dataframe tbody tr th {\n",
       "        vertical-align: top;\n",
       "    }\n",
       "\n",
       "    .dataframe thead th {\n",
       "        text-align: right;\n",
       "    }\n",
       "</style>\n",
       "<table border=\"1\" class=\"dataframe\">\n",
       "  <thead>\n",
       "    <tr style=\"text-align: right;\">\n",
       "      <th></th>\n",
       "      <th>Pregnancies</th>\n",
       "      <th>Glucose</th>\n",
       "      <th>BloodPressure</th>\n",
       "      <th>SkinThickness</th>\n",
       "      <th>Insulin</th>\n",
       "      <th>BMI</th>\n",
       "      <th>DiabetesPedigreeFunction</th>\n",
       "      <th>Age</th>\n",
       "    </tr>\n",
       "  </thead>\n",
       "  <tbody>\n",
       "    <tr>\n",
       "      <th>353</th>\n",
       "      <td>1.0</td>\n",
       "      <td>90.0</td>\n",
       "      <td>62.0</td>\n",
       "      <td>12.0</td>\n",
       "      <td>43.0</td>\n",
       "      <td>27.2</td>\n",
       "      <td>0.580</td>\n",
       "      <td>24</td>\n",
       "    </tr>\n",
       "    <tr>\n",
       "      <th>711</th>\n",
       "      <td>5.0</td>\n",
       "      <td>126.0</td>\n",
       "      <td>78.0</td>\n",
       "      <td>27.0</td>\n",
       "      <td>22.0</td>\n",
       "      <td>29.6</td>\n",
       "      <td>0.439</td>\n",
       "      <td>40</td>\n",
       "    </tr>\n",
       "    <tr>\n",
       "      <th>373</th>\n",
       "      <td>2.0</td>\n",
       "      <td>105.0</td>\n",
       "      <td>58.0</td>\n",
       "      <td>40.0</td>\n",
       "      <td>94.0</td>\n",
       "      <td>34.9</td>\n",
       "      <td>0.225</td>\n",
       "      <td>25</td>\n",
       "    </tr>\n",
       "    <tr>\n",
       "      <th>46</th>\n",
       "      <td>1.0</td>\n",
       "      <td>146.0</td>\n",
       "      <td>56.0</td>\n",
       "      <td>29.0</td>\n",
       "      <td>125.0</td>\n",
       "      <td>29.7</td>\n",
       "      <td>0.564</td>\n",
       "      <td>29</td>\n",
       "    </tr>\n",
       "    <tr>\n",
       "      <th>682</th>\n",
       "      <td>4.0</td>\n",
       "      <td>95.0</td>\n",
       "      <td>64.0</td>\n",
       "      <td>39.0</td>\n",
       "      <td>105.0</td>\n",
       "      <td>44.6</td>\n",
       "      <td>0.366</td>\n",
       "      <td>22</td>\n",
       "    </tr>\n",
       "    <tr>\n",
       "      <th>...</th>\n",
       "      <td>...</td>\n",
       "      <td>...</td>\n",
       "      <td>...</td>\n",
       "      <td>...</td>\n",
       "      <td>...</td>\n",
       "      <td>...</td>\n",
       "      <td>...</td>\n",
       "      <td>...</td>\n",
       "    </tr>\n",
       "    <tr>\n",
       "      <th>451</th>\n",
       "      <td>2.0</td>\n",
       "      <td>134.0</td>\n",
       "      <td>70.0</td>\n",
       "      <td>29.0</td>\n",
       "      <td>125.0</td>\n",
       "      <td>28.9</td>\n",
       "      <td>0.542</td>\n",
       "      <td>23</td>\n",
       "    </tr>\n",
       "    <tr>\n",
       "      <th>113</th>\n",
       "      <td>4.0</td>\n",
       "      <td>76.0</td>\n",
       "      <td>62.0</td>\n",
       "      <td>29.0</td>\n",
       "      <td>125.0</td>\n",
       "      <td>34.0</td>\n",
       "      <td>0.391</td>\n",
       "      <td>25</td>\n",
       "    </tr>\n",
       "    <tr>\n",
       "      <th>556</th>\n",
       "      <td>1.0</td>\n",
       "      <td>97.0</td>\n",
       "      <td>70.0</td>\n",
       "      <td>40.0</td>\n",
       "      <td>125.0</td>\n",
       "      <td>38.1</td>\n",
       "      <td>0.218</td>\n",
       "      <td>30</td>\n",
       "    </tr>\n",
       "    <tr>\n",
       "      <th>667</th>\n",
       "      <td>10.0</td>\n",
       "      <td>111.0</td>\n",
       "      <td>70.0</td>\n",
       "      <td>27.0</td>\n",
       "      <td>125.0</td>\n",
       "      <td>27.5</td>\n",
       "      <td>0.141</td>\n",
       "      <td>40</td>\n",
       "    </tr>\n",
       "    <tr>\n",
       "      <th>107</th>\n",
       "      <td>4.0</td>\n",
       "      <td>144.0</td>\n",
       "      <td>58.0</td>\n",
       "      <td>28.0</td>\n",
       "      <td>140.0</td>\n",
       "      <td>29.5</td>\n",
       "      <td>0.287</td>\n",
       "      <td>37</td>\n",
       "    </tr>\n",
       "  </tbody>\n",
       "</table>\n",
       "<p>614 rows × 8 columns</p>\n",
       "</div>"
      ],
      "text/plain": [
       "     Pregnancies  Glucose  BloodPressure  SkinThickness  Insulin   BMI  \\\n",
       "353          1.0     90.0           62.0           12.0     43.0  27.2   \n",
       "711          5.0    126.0           78.0           27.0     22.0  29.6   \n",
       "373          2.0    105.0           58.0           40.0     94.0  34.9   \n",
       "46           1.0    146.0           56.0           29.0    125.0  29.7   \n",
       "682          4.0     95.0           64.0           39.0    105.0  44.6   \n",
       "..           ...      ...            ...            ...      ...   ...   \n",
       "451          2.0    134.0           70.0           29.0    125.0  28.9   \n",
       "113          4.0     76.0           62.0           29.0    125.0  34.0   \n",
       "556          1.0     97.0           70.0           40.0    125.0  38.1   \n",
       "667         10.0    111.0           70.0           27.0    125.0  27.5   \n",
       "107          4.0    144.0           58.0           28.0    140.0  29.5   \n",
       "\n",
       "     DiabetesPedigreeFunction  Age  \n",
       "353                     0.580   24  \n",
       "711                     0.439   40  \n",
       "373                     0.225   25  \n",
       "46                      0.564   29  \n",
       "682                     0.366   22  \n",
       "..                        ...  ...  \n",
       "451                     0.542   23  \n",
       "113                     0.391   25  \n",
       "556                     0.218   30  \n",
       "667                     0.141   40  \n",
       "107                     0.287   37  \n",
       "\n",
       "[614 rows x 8 columns]"
      ]
     },
     "execution_count": 15,
     "metadata": {},
     "output_type": "execute_result"
    }
   ],
   "source": [
    "X_train"
   ]
  },
  {
   "cell_type": "markdown",
   "id": "5cad1ac0",
   "metadata": {},
   "source": [
    "## Now we will train the data to some classifier models and check for accuracy among them"
   ]
  },
  {
   "cell_type": "code",
   "execution_count": 16,
   "id": "e1d97350",
   "metadata": {},
   "outputs": [],
   "source": [
    "from sklearn.linear_model import LogisticRegression\n",
    "from sklearn.neighbors import KNeighborsClassifier\n",
    "from sklearn.naive_bayes import GaussianNB\n",
    "from sklearn.tree import DecisionTreeClassifier\n",
    "from sklearn.ensemble import RandomForestClassifier\n",
    "from sklearn.model_selection import KFold, cross_val_score,StratifiedKFold\n",
    "\n",
    "from sklearn.metrics import accuracy_score, precision_score, f1_score, log_loss\n",
    "\n",
    "model1 = LogisticRegression()\n",
    "model2 = KNeighborsClassifier()\n",
    "model3 = GaussianNB()\n",
    "model4 = DecisionTreeClassifier()\n",
    "model5 = RandomForestClassifier()"
   ]
  },
  {
   "cell_type": "code",
   "execution_count": 17,
   "id": "4387a63d",
   "metadata": {},
   "outputs": [],
   "source": [
    "Kf = StratifiedKFold(n_splits = 5, shuffle = True, random_state = 42)\n",
    "def Model_Selection(Model,Data_list, name):\n",
    "    Model.fit(Data_list[0],Data_list[2])\n",
    "    y_Pred = Model.predict(Data_list[1])\n",
    "    Accuracy = np.mean(cross_val_score(Model, Data_list[0],Data_list[2], cv = Kf, scoring='accuracy'))\n",
    "    f1Score = np.mean(cross_val_score(Model, Data_list[0],Data_list[2], cv = Kf, scoring='f1'))\n",
    "    Precision = np.mean(cross_val_score(Model, Data_list[0],Data_list[2], cv = Kf, scoring='precision'))\n",
    "    \n",
    "    Logloss = log_loss(Data_list[3], y_Pred)\n",
    "    \n",
    "    frame = pd.DataFrame({'Model': [name], 'Accuracy': [Accuracy], 'f1Score': [f1Score], 'Precision': [Precision], 'Logloss': [Logloss]})\n",
    "    return frame\n"
   ]
  },
  {
   "cell_type": "code",
   "execution_count": 18,
   "id": "2d209db8",
   "metadata": {
    "scrolled": true
   },
   "outputs": [
    {
     "data": {
      "text/html": [
       "<div>\n",
       "<style scoped>\n",
       "    .dataframe tbody tr th:only-of-type {\n",
       "        vertical-align: middle;\n",
       "    }\n",
       "\n",
       "    .dataframe tbody tr th {\n",
       "        vertical-align: top;\n",
       "    }\n",
       "\n",
       "    .dataframe thead th {\n",
       "        text-align: right;\n",
       "    }\n",
       "</style>\n",
       "<table border=\"1\" class=\"dataframe\">\n",
       "  <thead>\n",
       "    <tr style=\"text-align: right;\">\n",
       "      <th></th>\n",
       "      <th>index</th>\n",
       "      <th>Model</th>\n",
       "      <th>Accuracy</th>\n",
       "      <th>f1Score</th>\n",
       "      <th>Precision</th>\n",
       "      <th>Logloss</th>\n",
       "    </tr>\n",
       "  </thead>\n",
       "  <tbody>\n",
       "    <tr>\n",
       "      <th>0</th>\n",
       "      <td>0</td>\n",
       "      <td>KNeighborsClassifier</td>\n",
       "      <td>0.745862</td>\n",
       "      <td>0.615060</td>\n",
       "      <td>0.651547</td>\n",
       "      <td>10.765447</td>\n",
       "    </tr>\n",
       "    <tr>\n",
       "      <th>1</th>\n",
       "      <td>0</td>\n",
       "      <td>GaussianNB</td>\n",
       "      <td>0.759003</td>\n",
       "      <td>0.633745</td>\n",
       "      <td>0.679065</td>\n",
       "      <td>10.316912</td>\n",
       "    </tr>\n",
       "    <tr>\n",
       "      <th>2</th>\n",
       "      <td>0</td>\n",
       "      <td>DecisionTreeClassifier</td>\n",
       "      <td>0.674304</td>\n",
       "      <td>0.544923</td>\n",
       "      <td>0.529639</td>\n",
       "      <td>11.662548</td>\n",
       "    </tr>\n",
       "    <tr>\n",
       "      <th>3</th>\n",
       "      <td>0</td>\n",
       "      <td>RandomForestClassifier</td>\n",
       "      <td>0.763828</td>\n",
       "      <td>0.627614</td>\n",
       "      <td>0.703844</td>\n",
       "      <td>8.298355</td>\n",
       "    </tr>\n",
       "  </tbody>\n",
       "</table>\n",
       "</div>"
      ],
      "text/plain": [
       "   index                   Model  Accuracy   f1Score  Precision    Logloss\n",
       "0      0    KNeighborsClassifier  0.745862  0.615060   0.651547  10.765447\n",
       "1      0              GaussianNB  0.759003  0.633745   0.679065  10.316912\n",
       "2      0  DecisionTreeClassifier  0.674304  0.544923   0.529639  11.662548\n",
       "3      0  RandomForestClassifier  0.763828  0.627614   0.703844   8.298355"
      ]
     },
     "execution_count": 18,
     "metadata": {},
     "output_type": "execute_result"
    }
   ],
   "source": [
    "Kf = StratifiedKFold(n_splits = 5, shuffle = True, random_state = 42)\n",
    "Data_list = [X_train, X_test, y_train, y_test]\n",
    "Model_data = pd.concat([\n",
    "                       Model_Selection(model2, Data_list, 'KNeighborsClassifier'),\n",
    "                       Model_Selection(model3, Data_list, 'GaussianNB'),\n",
    "                       Model_Selection(model4, Data_list, 'DecisionTreeClassifier'),\n",
    "                       Model_Selection(model5, Data_list, 'RandomForestClassifier')],axis = 0).reset_index()\n",
    "\n",
    "Model_data"
   ]
  },
  {
   "cell_type": "markdown",
   "id": "120599f4",
   "metadata": {},
   "source": [
    "## So the above dataframe shows the accuracy and other variables of the data. using cross-validation"
   ]
  },
  {
   "cell_type": "markdown",
   "id": "44b2e386",
   "metadata": {},
   "source": [
    "#### Clearly it is visible that RandomForestClassifier is best fit model for our problem"
   ]
  },
  {
   "cell_type": "markdown",
   "id": "07e71e77",
   "metadata": {},
   "source": [
    "## Now using RandomForestClassifer for our problem"
   ]
  },
  {
   "cell_type": "code",
   "execution_count": 19,
   "id": "8e0edb32",
   "metadata": {},
   "outputs": [
    {
     "data": {
      "text/plain": [
       "RandomForestClassifier()"
      ]
     },
     "execution_count": 19,
     "metadata": {},
     "output_type": "execute_result"
    }
   ],
   "source": [
    "Model = RandomForestClassifier()\n",
    "Model.fit(X_train, y_train)"
   ]
  },
  {
   "cell_type": "markdown",
   "id": "9a08a450",
   "metadata": {},
   "source": [
    "##### Lets take some data from the main file and predict the output"
   ]
  },
  {
   "cell_type": "code",
   "execution_count": 20,
   "id": "49b60c2f",
   "metadata": {},
   "outputs": [
    {
     "data": {
      "text/plain": [
       "array([1, 0, 1, 0, 1])"
      ]
     },
     "execution_count": 20,
     "metadata": {},
     "output_type": "execute_result"
    }
   ],
   "source": [
    "some_data = Data_Features.iloc[:5]\n",
    "some_labels = Data_Labels.iloc[:5]\n",
    "Model.predict(some_data)"
   ]
  },
  {
   "cell_type": "code",
   "execution_count": 21,
   "id": "5284f6ba",
   "metadata": {},
   "outputs": [
    {
     "data": {
      "text/plain": [
       "[1, 0, 1, 0, 1]"
      ]
     },
     "execution_count": 21,
     "metadata": {},
     "output_type": "execute_result"
    }
   ],
   "source": [
    "list(some_labels)"
   ]
  },
  {
   "cell_type": "markdown",
   "id": "8007c105",
   "metadata": {},
   "source": [
    "## The output above shows that our model is doin good"
   ]
  },
  {
   "cell_type": "markdown",
   "id": "896dbb33",
   "metadata": {},
   "source": [
    "#### Now time for using our testing data that we split earlier"
   ]
  },
  {
   "cell_type": "code",
   "execution_count": 22,
   "id": "df632317",
   "metadata": {},
   "outputs": [
    {
     "name": "stdout",
     "output_type": "stream",
     "text": [
      "[1 0 0 0 0 0 0 1 0 1 1 1 0 0 0 0 1 0 1 0 0 1 0 1 0 0 1 0 1 0 0 0 1 0 1 0 0\n",
      " 0 1 0 0 0 0 1 0 0 0 0 1 0 0 1 0 0 1 0 1 0 1 0 1 0 0 1 0 1 1 0 0 1 0 0 0 1\n",
      " 0 0 0 0 0 0 0 0 0 0 0 0 1 0 0 0 1 1 0 0 0 0 1 1 1 0 0 0 0 0 1 0 1 0 0 0 0\n",
      " 1 1 0 1 0 0 0 1 0 1 0 0 0 1 1 1 1 0 0 0 1 0 1 1 0 0 0 0 0 0 1 0 0 0 0 0 1\n",
      " 0 0 0 0 1 0]\n"
     ]
    }
   ],
   "source": [
    "Pred = Model.predict(X_test)\n",
    "print(Pred)"
   ]
  },
  {
   "cell_type": "code",
   "execution_count": 23,
   "id": "4b587b53",
   "metadata": {},
   "outputs": [
    {
     "name": "stdout",
     "output_type": "stream",
     "text": [
      "[0, 0, 0, 1, 0, 0, 1, 1, 0, 0, 0, 1, 0, 0, 1, 1, 0, 0, 0, 0, 0, 1, 1, 1, 0, 0, 1, 0, 1, 0, 0, 0, 0, 0, 0, 1, 0, 0, 1, 0, 0, 0, 0, 1, 0, 1, 1, 0, 1, 1, 0, 1, 0, 0, 0, 0, 1, 0, 1, 0, 1, 0, 0, 1, 0, 0, 1, 0, 0, 1, 1, 0, 0, 1, 0, 1, 0, 1, 0, 0, 0, 0, 0, 0, 0, 0, 1, 1, 0, 0, 1, 1, 0, 1, 1, 1, 0, 0, 1, 0, 0, 0, 0, 0, 1, 0, 1, 0, 0, 0, 0, 1, 1, 1, 1, 0, 0, 0, 1, 0, 0, 1, 0, 0, 1, 1, 1, 0, 0, 0, 0, 0, 0, 1, 0, 0, 0, 0, 0, 0, 0, 1, 0, 0, 0, 1, 1, 1, 0, 0, 0, 0, 1, 0]\n"
     ]
    }
   ],
   "source": [
    "print(list(y_test))"
   ]
  },
  {
   "cell_type": "markdown",
   "id": "af56dd22",
   "metadata": {},
   "source": [
    "## Saving the model"
   ]
  },
  {
   "cell_type": "code",
   "execution_count": 24,
   "id": "f70ff51d",
   "metadata": {},
   "outputs": [
    {
     "data": {
      "text/plain": [
       "['Diabetes_predictor.joblib']"
      ]
     },
     "execution_count": 24,
     "metadata": {},
     "output_type": "execute_result"
    }
   ],
   "source": [
    "from joblib import dump, load\n",
    "dump(Model, 'Diabetes_predictor.joblib')"
   ]
  },
  {
   "cell_type": "markdown",
   "id": "bdedaa43",
   "metadata": {},
   "source": [
    "## Using the model"
   ]
  },
  {
   "cell_type": "code",
   "execution_count": 25,
   "id": "ecd4dd8e",
   "metadata": {},
   "outputs": [],
   "source": [
    "def Main():\n",
    "    Preg = float(input(\"Enter the value of Pregnancies: \"))\n",
    "    Glu = float(input(\"Enter the value of Glucose: \"))\n",
    "    BP = float(input(\"Enter the value of Blood Pressure: \"))\n",
    "    Skin_Thick = float(input(\"Enter the value of SkinThickness: \"))\n",
    "    Ins = float(input(\"Enter the value of Insulin: \"))\n",
    "    BMI = float(input(\"Enter the value of BMI: \"))\n",
    "    DiabPed = float(input(\"Enter the value of DiabetesPedigreeFunction: \"))\n",
    "    Age = float(input(\"Enter the value of Age: \"))\n",
    "    \n",
    "    \n",
    "    from joblib import dump, load\n",
    "    model = load('Diabetes_predictor.joblib')\n",
    "\n",
    "    Val = model.predict(np.array([[Preg, Glu, BP, Skin_Thick, Ins, BMI, DiabPed, Age]]))\n",
    "    if(Val[0] == 1):\n",
    "        print('Yes', 'Model Predicted the diabetes')\n",
    "    else:\n",
    "        print('No', 'Model predicted no diabetes')\n",
    "    "
   ]
  },
  {
   "cell_type": "code",
   "execution_count": 26,
   "id": "24e8cc9b",
   "metadata": {},
   "outputs": [],
   "source": [
    "#Main()"
   ]
  },
  {
   "cell_type": "code",
   "execution_count": 27,
   "id": "06bb7624",
   "metadata": {},
   "outputs": [
    {
     "data": {
      "text/plain": [
       "1"
      ]
     },
     "execution_count": 27,
     "metadata": {},
     "output_type": "execute_result"
    }
   ],
   "source": [
    "from joblib import dump, load\n",
    "model = load('Diabetes_predictor.joblib')\n",
    "input = np.array([[6,148,72,35,0,33.6,0.627,50]])\n",
    "Arr = model.predict(input)\n",
    "Arr[0]"
   ]
  }
 ],
 "metadata": {
  "kernelspec": {
   "display_name": "Python 3",
   "language": "python",
   "name": "python3"
  },
  "language_info": {
   "codemirror_mode": {
    "name": "ipython",
    "version": 3
   },
   "file_extension": ".py",
   "mimetype": "text/x-python",
   "name": "python",
   "nbconvert_exporter": "python",
   "pygments_lexer": "ipython3",
   "version": "3.8.8"
  }
 },
 "nbformat": 4,
 "nbformat_minor": 5
}

{
 "cells": [
  {
   "cell_type": "markdown",
   "id": "ef39c576",
   "metadata": {},
   "source": [
    "## Importing Required libraries"
   ]
  },
  {
   "cell_type": "code",
   "execution_count": 1,
   "id": "d9128448",
   "metadata": {
    "scrolled": true
   },
   "outputs": [
    {
     "name": "stderr",
     "output_type": "stream",
     "text": [
      "[nltk_data] Downloading package stopwords to\n",
      "[nltk_data]     C:\\Users\\harsh\\AppData\\Roaming\\nltk_data...\n",
      "[nltk_data]   Package stopwords is already up-to-date!\n"
     ]
    }
   ],
   "source": [
    "# Analysing data\n",
    "import pandas as pd\n",
    "import numpy as np\n",
    "\n",
    "# Visualizating the data\n",
    "from matplotlib import pyplot as plt\n",
    "import seaborn as sns\n",
    "\n",
    "# Processing the data\n",
    "import nltk\n",
    "nltk.download('stopwords')\n",
    "from nltk.tokenize import word_tokenize\n",
    "from nltk.corpus import stopwords\n",
    "from nltk.stem import PorterStemmer\n",
    "import re\n",
    "import string\n",
    "\n",
    "# Machine Learning part\n",
    "from sklearn.feature_extraction.text import CountVectorizer, TfidfVectorizer, TfidfTransformer\n",
    "from sklearn.model_selection import train_test_split, cross_val_score, RepeatedStratifiedKFold, StratifiedKFold\n",
    "from sklearn.metrics import f1_score, accuracy_score, plot_confusion_matrix, roc_auc_score, roc_curve,auc\n",
    "from sklearn.metrics import confusion_matrix, classification_report, log_loss, precision_score\n",
    "from imblearn.over_sampling import SMOTE\n",
    "from sklearn.linear_model import LogisticRegression\n",
    "from sklearn.naive_bayes import MultinomialNB\n",
    "from sklearn.tree import DecisionTreeClassifier\n",
    "from sklearn.ensemble import RandomForestClassifier\n",
    "from sklearn.preprocessing import FunctionTransformer\n"
   ]
  },
  {
   "cell_type": "markdown",
   "id": "b3a850bb",
   "metadata": {},
   "source": [
    "## Loading datasets"
   ]
  },
  {
   "cell_type": "code",
   "execution_count": 2,
   "id": "905fb6d9",
   "metadata": {},
   "outputs": [],
   "source": [
    "train_data = pd.read_csv(\"datasets/tweet_analysis_train.csv\",encoding = \"utf-8\",engine = \"python\",header = 0)\n",
    "\n",
    "test_data = pd.read_csv(\"datasets/tweet_analysis_test.csv\",encoding = \"utf-8\",engine = \"python\",header = 0)"
   ]
  },
  {
   "cell_type": "markdown",
   "id": "9a54de04",
   "metadata": {},
   "source": [
    "### Getting info about the datasets"
   ]
  },
  {
   "cell_type": "code",
   "execution_count": 3,
   "id": "a3a53f03",
   "metadata": {},
   "outputs": [
    {
     "name": "stdout",
     "output_type": "stream",
     "text": [
      "Train set shape :  (31962, 3)\n",
      "Test set shape :  (17197, 2)\n",
      "<class 'pandas.core.frame.DataFrame'>\n",
      "RangeIndex: 31962 entries, 0 to 31961\n",
      "Data columns (total 3 columns):\n",
      " #   Column  Non-Null Count  Dtype \n",
      "---  ------  --------------  ----- \n",
      " 0   id      31962 non-null  int64 \n",
      " 1   label   31962 non-null  int64 \n",
      " 2   tweet   31962 non-null  object\n",
      "dtypes: int64(2), object(1)\n",
      "memory usage: 749.2+ KB\n",
      "None\n"
     ]
    }
   ],
   "source": [
    "print(\"Train set shape : \", train_data.shape)\n",
    "print(\"Test set shape : \", test_data.shape)\n",
    "print(train_data.info())\n",
    "#train_data"
   ]
  },
  {
   "cell_type": "markdown",
   "id": "d1d8ae70",
   "metadata": {},
   "source": [
    "## Preparing the dataset"
   ]
  },
  {
   "cell_type": "code",
   "execution_count": 4,
   "id": "d061fb85",
   "metadata": {},
   "outputs": [
    {
     "name": "stdout",
     "output_type": "stream",
     "text": [
      "Total duplicates in train set :  2432\n"
     ]
    }
   ],
   "source": [
    "## Dropping the column 'id'\n",
    "train_data = train_data.drop('id', axis = 'columns')\n",
    "\n",
    "## Checkinf for duplicates\n",
    "print(\"Total duplicates in train set : \", train_data.duplicated().sum())"
   ]
  },
  {
   "cell_type": "markdown",
   "id": "b585fa77",
   "metadata": {},
   "source": [
    "#### Since the train data set contains duplicate we will remove that"
   ]
  },
  {
   "cell_type": "code",
   "execution_count": 5,
   "id": "5a540ab4",
   "metadata": {},
   "outputs": [
    {
     "name": "stdout",
     "output_type": "stream",
     "text": [
      "Total duplicates in train set :  0\n"
     ]
    }
   ],
   "source": [
    "train_data = train_data.drop_duplicates(keep = 'first')\n",
    "print(\"Total duplicates in train set : \", train_data.duplicated().sum())"
   ]
  },
  {
   "cell_type": "code",
   "execution_count": 6,
   "id": "94d91a63",
   "metadata": {},
   "outputs": [
    {
     "data": {
      "text/plain": [
       "label    False\n",
       "tweet    False\n",
       "dtype: bool"
      ]
     },
     "execution_count": 6,
     "metadata": {},
     "output_type": "execute_result"
    }
   ],
   "source": [
    "## Checking for the Null\n",
    "train_data.isnull().any()"
   ]
  },
  {
   "cell_type": "markdown",
   "id": "26f2de0c",
   "metadata": {},
   "source": [
    "### Now check for the count of 1 and 0 in the label and also the percentage of them "
   ]
  },
  {
   "cell_type": "code",
   "execution_count": 7,
   "id": "331410aa",
   "metadata": {},
   "outputs": [
    {
     "data": {
      "text/html": [
       "<div>\n",
       "<style scoped>\n",
       "    .dataframe tbody tr th:only-of-type {\n",
       "        vertical-align: middle;\n",
       "    }\n",
       "\n",
       "    .dataframe tbody tr th {\n",
       "        vertical-align: top;\n",
       "    }\n",
       "\n",
       "    .dataframe thead th {\n",
       "        text-align: right;\n",
       "    }\n",
       "</style>\n",
       "<table border=\"1\" class=\"dataframe\">\n",
       "  <thead>\n",
       "    <tr style=\"text-align: right;\">\n",
       "      <th></th>\n",
       "      <th>tweet</th>\n",
       "    </tr>\n",
       "    <tr>\n",
       "      <th>label</th>\n",
       "      <th></th>\n",
       "    </tr>\n",
       "  </thead>\n",
       "  <tbody>\n",
       "    <tr>\n",
       "      <th>0</th>\n",
       "      <td>27517</td>\n",
       "    </tr>\n",
       "    <tr>\n",
       "      <th>1</th>\n",
       "      <td>2013</td>\n",
       "    </tr>\n",
       "  </tbody>\n",
       "</table>\n",
       "</div>"
      ],
      "text/plain": [
       "       tweet\n",
       "label       \n",
       "0      27517\n",
       "1       2013"
      ]
     },
     "execution_count": 7,
     "metadata": {},
     "output_type": "execute_result"
    }
   ],
   "source": [
    "train_data.groupby('label').count()"
   ]
  },
  {
   "cell_type": "code",
   "execution_count": 8,
   "id": "a764a2bb",
   "metadata": {},
   "outputs": [
    {
     "name": "stdout",
     "output_type": "stream",
     "text": [
      "Percentage of Zeroes(Positive) Sentiment tweets is :  93.18320352184219\n",
      "Percentage of Ones(Negative) Sentiment tweets is :  6.816796478157806\n",
      "\n",
      "As we can see, The training dataset is very much Imbalanced\n"
     ]
    }
   ],
   "source": [
    "Zeroes = 100 * len(train_data.loc[train_data['label'] == 0,'label']) / len(train_data['label'])\n",
    "Ones = 100 * len(train_data.loc[train_data['label'] == 1,'label']) / len(train_data['label'])\n",
    "print(\"Percentage of Zeroes(Positive) Sentiment tweets is : \", Zeroes)\n",
    "print(\"Percentage of Ones(Negative) Sentiment tweets is : \", Ones)\n",
    "print(\"\\nAs we can see, The training dataset is very much Imbalanced\")"
   ]
  },
  {
   "cell_type": "markdown",
   "id": "a4d7660f",
   "metadata": {},
   "source": [
    "### Now we will get 20 most frequent words in the train dataset"
   ]
  },
  {
   "cell_type": "code",
   "execution_count": 9,
   "id": "473cf2a6",
   "metadata": {},
   "outputs": [
    {
     "name": "stdout",
     "output_type": "stream",
     "text": [
      "           word  frequency\n",
      "0          user      17211\n",
      "1          love       2274\n",
      "2           day       2211\n",
      "3           amp       1668\n",
      "4         happy       1580\n",
      "...         ...        ...\n",
      "41099       isz          1\n",
      "41100  airwaves          1\n",
      "41101    mantle          1\n",
      "41102   shirley          1\n",
      "41103   chisolm          1\n",
      "\n",
      "[41104 rows x 2 columns]\n"
     ]
    }
   ],
   "source": [
    "Count = CountVectorizer(stop_words='english')\n",
    "words = Count.fit_transform(train_data.tweet)\n",
    "Sum = words.sum(axis = 0)\n",
    "List = [(words, Sum[0,j]) for words, j in Count.vocabulary_.items()]\n",
    "List = sorted(List, key= lambda x : x[1], reverse = True)\n",
    "Freq = pd.DataFrame(List, columns = ['word', 'frequency'])\n",
    "print(Freq)"
   ]
  },
  {
   "cell_type": "code",
   "execution_count": 10,
   "id": "46edbdae",
   "metadata": {},
   "outputs": [
    {
     "data": {
      "image/png": "[encoded data removed]",
      "text/plain": [
       "<Figure size 720x504 with 1 Axes>"
      ]
     },
     "metadata": {
      "needs_background": "light"
     },
     "output_type": "display_data"
    }
   ],
   "source": [
    "## Plotting a histogram to show it graphically\n",
    "Freq.head(10).plot(x = 'word', y = 'frequency', kind = 'bar', figsize = (10, 7), color = 'red')\n",
    "plt.show()"
   ]
  },
  {
   "cell_type": "markdown",
   "id": "a3f04d9a",
   "metadata": {},
   "source": [
    "### Now we will define functions to calculate , words, characters, Hashtags, Numbers, stopwords etc."
   ]
  },
  {
   "cell_type": "code",
   "execution_count": 11,
   "id": "c587ec22",
   "metadata": {},
   "outputs": [
    {
     "data": {
      "text/html": [
       "<div>\n",
       "<style scoped>\n",
       "    .dataframe tbody tr th:only-of-type {\n",
       "        vertical-align: middle;\n",
       "    }\n",
       "\n",
       "    .dataframe tbody tr th {\n",
       "        vertical-align: top;\n",
       "    }\n",
       "\n",
       "    .dataframe thead th {\n",
       "        text-align: right;\n",
       "    }\n",
       "</style>\n",
       "<table border=\"1\" class=\"dataframe\">\n",
       "  <thead>\n",
       "    <tr style=\"text-align: right;\">\n",
       "      <th></th>\n",
       "      <th>label</th>\n",
       "      <th>tweet</th>\n",
       "      <th>numbers</th>\n",
       "      <th>characters</th>\n",
       "      <th>hashtags</th>\n",
       "      <th>stopwords</th>\n",
       "    </tr>\n",
       "  </thead>\n",
       "  <tbody>\n",
       "    <tr>\n",
       "      <th>0</th>\n",
       "      <td>0</td>\n",
       "      <td>@user when a father is dysfunctional and is s...</td>\n",
       "      <td>0</td>\n",
       "      <td>82</td>\n",
       "      <td>1</td>\n",
       "      <td>10</td>\n",
       "    </tr>\n",
       "    <tr>\n",
       "      <th>1</th>\n",
       "      <td>0</td>\n",
       "      <td>@user @user thanks for #lyft credit i can't us...</td>\n",
       "      <td>0</td>\n",
       "      <td>101</td>\n",
       "      <td>3</td>\n",
       "      <td>5</td>\n",
       "    </tr>\n",
       "    <tr>\n",
       "      <th>2</th>\n",
       "      <td>0</td>\n",
       "      <td>bihday your majesty</td>\n",
       "      <td>0</td>\n",
       "      <td>17</td>\n",
       "      <td>0</td>\n",
       "      <td>1</td>\n",
       "    </tr>\n",
       "    <tr>\n",
       "      <th>3</th>\n",
       "      <td>0</td>\n",
       "      <td>#model   i love u take with u all the time in ...</td>\n",
       "      <td>0</td>\n",
       "      <td>70</td>\n",
       "      <td>1</td>\n",
       "      <td>5</td>\n",
       "    </tr>\n",
       "    <tr>\n",
       "      <th>4</th>\n",
       "      <td>0</td>\n",
       "      <td>factsguide: society now    #motivation</td>\n",
       "      <td>0</td>\n",
       "      <td>32</td>\n",
       "      <td>1</td>\n",
       "      <td>1</td>\n",
       "    </tr>\n",
       "    <tr>\n",
       "      <th>...</th>\n",
       "      <td>...</td>\n",
       "      <td>...</td>\n",
       "      <td>...</td>\n",
       "      <td>...</td>\n",
       "      <td>...</td>\n",
       "      <td>...</td>\n",
       "    </tr>\n",
       "    <tr>\n",
       "      <th>31956</th>\n",
       "      <td>0</td>\n",
       "      <td>off fishing tomorrow @user carnt wait first ti...</td>\n",
       "      <td>1</td>\n",
       "      <td>49</td>\n",
       "      <td>0</td>\n",
       "      <td>2</td>\n",
       "    </tr>\n",
       "    <tr>\n",
       "      <th>31957</th>\n",
       "      <td>0</td>\n",
       "      <td>ate @user isz that youuu?ðððððð...</td>\n",
       "      <td>0</td>\n",
       "      <td>63</td>\n",
       "      <td>0</td>\n",
       "      <td>1</td>\n",
       "    </tr>\n",
       "    <tr>\n",
       "      <th>31958</th>\n",
       "      <td>0</td>\n",
       "      <td>to see nina turner on the airwaves trying to...</td>\n",
       "      <td>0</td>\n",
       "      <td>107</td>\n",
       "      <td>2</td>\n",
       "      <td>9</td>\n",
       "    </tr>\n",
       "    <tr>\n",
       "      <th>31959</th>\n",
       "      <td>0</td>\n",
       "      <td>listening to sad songs on a monday morning otw...</td>\n",
       "      <td>0</td>\n",
       "      <td>49</td>\n",
       "      <td>0</td>\n",
       "      <td>5</td>\n",
       "    </tr>\n",
       "    <tr>\n",
       "      <th>31961</th>\n",
       "      <td>0</td>\n",
       "      <td>thank you @user for you follow</td>\n",
       "      <td>0</td>\n",
       "      <td>25</td>\n",
       "      <td>0</td>\n",
       "      <td>3</td>\n",
       "    </tr>\n",
       "  </tbody>\n",
       "</table>\n",
       "<p>29530 rows × 6 columns</p>\n",
       "</div>"
      ],
      "text/plain": [
       "       label                                              tweet  numbers  \\\n",
       "0          0   @user when a father is dysfunctional and is s...        0   \n",
       "1          0  @user @user thanks for #lyft credit i can't us...        0   \n",
       "2          0                                bihday your majesty        0   \n",
       "3          0  #model   i love u take with u all the time in ...        0   \n",
       "4          0             factsguide: society now    #motivation        0   \n",
       "...      ...                                                ...      ...   \n",
       "31956      0  off fishing tomorrow @user carnt wait first ti...        1   \n",
       "31957      0  ate @user isz that youuu?ðððððð...        0   \n",
       "31958      0    to see nina turner on the airwaves trying to...        0   \n",
       "31959      0  listening to sad songs on a monday morning otw...        0   \n",
       "31961      0                   thank you @user for you follow          0   \n",
       "\n",
       "       characters  hashtags  stopwords  \n",
       "0              82         1         10  \n",
       "1             101         3          5  \n",
       "2              17         0          1  \n",
       "3              70         1          5  \n",
       "4              32         1          1  \n",
       "...           ...       ...        ...  \n",
       "31956          49         0          2  \n",
       "31957          63         0          1  \n",
       "31958         107         2          9  \n",
       "31959          49         0          5  \n",
       "31961          25         0          3  \n",
       "\n",
       "[29530 rows x 6 columns]"
      ]
     },
     "execution_count": 11,
     "metadata": {},
     "output_type": "execute_result"
    }
   ],
   "source": [
    "## Words count\n",
    "def Count_words(dataframe):\n",
    "    dataframe['words'] = dataframe['tweet'].apply(lambda x : len(str(x).split(\" \")))\n",
    "    \n",
    "## Characters Count\n",
    "def Count_chars(dataframe):\n",
    "    dataframe['characters'] = dataframe['tweet'].apply(lambda x : sum(list(map(len, x.split(' ')))))\n",
    "    \n",
    "## Hastags count\n",
    "def Count_hashtags(dataframe):\n",
    "    dataframe['hashtags'] = dataframe['tweet'].apply(lambda x : len([x for x in x.split() if x.startswith('#')]))\n",
    "    \n",
    "## stopwords count\n",
    "def Count_stopwords(dataframe):\n",
    "    stopword = stopwords.words('english')\n",
    "    dataframe['stopwords'] = dataframe['tweet'].apply(lambda x : len([x for x in x.split() if x in stopword]))\n",
    "    \n",
    "## Numbers count\n",
    "def Count_words(dataframe):\n",
    "    dataframe['numbers'] = dataframe['tweet'].apply(lambda x : len([x for x in x.split() if x.isdigit()]))\n",
    "    \n",
    "    \n",
    "def Calculate(dataframe):\n",
    "    Count_words(dataframe)\n",
    "    Count_chars(dataframe)\n",
    "    Count_hashtags(dataframe)\n",
    "    Count_stopwords(dataframe)\n",
    "    Count_words(dataframe)\n",
    "\n",
    "Calculate(train_data)\n",
    "Calculate(test_data)\n",
    "train_data"
   ]
  },
  {
   "cell_type": "markdown",
   "id": "87c80e93",
   "metadata": {},
   "source": [
    "### Now cleaning and processing the dataset"
   ]
  },
  {
   "cell_type": "code",
   "execution_count": 12,
   "id": "4006bcf0",
   "metadata": {},
   "outputs": [],
   "source": [
    "stopword = stopwords.words('english')\n",
    "stemm = nltk.SnowballStemmer('english')\n",
    "\n",
    "def Delete(word):\n",
    "    word = str(word).lower()\n",
    "    word = re.sub('\\[.*?\\]', '', word)\n",
    "    word = re.sub('https?://\\S+|www\\.\\S+', '', word)\n",
    "    word = re.sub('<.*?>+', '', word)\n",
    "    word = re.sub('[%s]' % re.escape(string.punctuation), '', word)\n",
    "    word = re.sub('\\n', '', word)\n",
    "    word = re.sub('\\w*\\d\\w*', '', word)\n",
    "    word = [text for text in word.split(' ') if text not in stopword]\n",
    "    word =\" \".join(word)\n",
    "    word = [stemm.stem(text) for text in word.split(' ')]\n",
    "    word =\" \".join(word)\n",
    "    return word\n",
    "\n",
    "train_data['tweet'] = train_data['tweet'].apply(Delete)\n",
    "test_data['tweet'] = test_data['tweet'].apply(Delete)\n",
    "##train_data\n",
    "##Process(test_data)"
   ]
  },
  {
   "cell_type": "code",
   "execution_count": 13,
   "id": "ca407517",
   "metadata": {},
   "outputs": [
    {
     "name": "stdout",
     "output_type": "stream",
     "text": [
      "10706          user tell player might penalti theyr sure  \n",
      "1861     holiday plan januaryð  week book workâð...\n",
      "3523      user photo accept user amp sale user photogra...\n",
      "5724     sometim friend matter live friend longdist   g...\n",
      "7784      user heard  ped user draft high stl cardin go...\n",
      "                               ...                        \n",
      "4179                                lost music phone wtf  \n",
      "7611     teaaddict   attack bull game  realli think hea...\n",
      "23180    megan frye show cou everi month amp smoke cig ...\n",
      "3920     mcconnel obstruct goe way back discov obama bl...\n",
      "10721    desk work week thank husband flower love   gif...\n",
      "Name: tweet, Length: 23624, dtype: object\n"
     ]
    }
   ],
   "source": [
    "train_x, test_x, train_y, test_y = train_test_split(train_data['tweet'], train_data['label'], test_size = 0.20, shuffle = True, random_state = 11)\n",
    "print(train_x)"
   ]
  },
  {
   "cell_type": "markdown",
   "id": "0a66efd0",
   "metadata": {},
   "source": [
    "### Now there is the need to vectorize the tweets, as this is method in Natural Language Processing "
   ]
  },
  {
   "cell_type": "code",
   "execution_count": 14,
   "id": "9bb590f6",
   "metadata": {},
   "outputs": [
    {
     "name": "stdout",
     "output_type": "stream",
     "text": [
      "(23624, 29970) (5906, 29970)\n"
     ]
    }
   ],
   "source": [
    "## Using TfidVectorizer\n",
    "vector = TfidfVectorizer(stop_words='english')\n",
    "\n",
    "X_train_vector = vector.fit_transform(train_x)\n",
    "X_test_vector = vector.transform(test_x)\n",
    "\n",
    "print(X_train_vector.shape, X_test_vector.shape)"
   ]
  },
  {
   "cell_type": "code",
   "execution_count": 15,
   "id": "f0551846",
   "metadata": {},
   "outputs": [
    {
     "data": {
      "image/png": "[encoded data removed]",
      "text/plain": [
       "<Figure size 432x288 with 1 Axes>"
      ]
     },
     "metadata": {},
     "output_type": "display_data"
    }
   ],
   "source": [
    "## Analyzing the Imbalance of the the dataset\n",
    "plt.pie(train_y.value_counts(), labels=['Label 0 (Positive Tweets)', 'Label 1 (Negative Tweets)'], autopct='%0.1f%%')\n",
    "plt.axis('equal')\n",
    "plt.show()"
   ]
  },
  {
   "cell_type": "markdown",
   "id": "b304976e",
   "metadata": {},
   "source": [
    "### Since the data is highly imblanced thus oversampling is needed to balance ths dataset "
   ]
  },
  {
   "cell_type": "code",
   "execution_count": 16,
   "id": "c9575b07",
   "metadata": {},
   "outputs": [
    {
     "name": "stdout",
     "output_type": "stream",
     "text": [
      "(44056, 29970) (44056,)\n"
     ]
    }
   ],
   "source": [
    "## Using SMOTE Technique oversampling is done\n",
    "smote = SMOTE()\n",
    "X_train_sm, y_train_sm = smote.fit_resample(X_train_vector, train_y.values)\n",
    "print(X_train_sm.shape, y_train_sm.shape)"
   ]
  },
  {
   "cell_type": "code",
   "execution_count": 17,
   "id": "65c87163",
   "metadata": {},
   "outputs": [
    {
     "data": {
      "image/png": "[encoded data removed]",
      "text/plain": [
       "<Figure size 432x288 with 1 Axes>"
      ]
     },
     "metadata": {},
     "output_type": "display_data"
    }
   ],
   "source": [
    "## Thus Now the dataset is balanced\n",
    "plt.pie(pd.value_counts(y_train_sm), labels=['Label 0 (Positive Tweets)', 'Label 1 (Negative Tweets)'], autopct='%0.1f%%')\n",
    "plt.axis('equal')\n",
    "plt.show()"
   ]
  },
  {
   "cell_type": "code",
   "execution_count": 18,
   "id": "dff76ec7",
   "metadata": {},
   "outputs": [],
   "source": [
    "## Function to Train the model\n",
    "def Training(y_actual, y_predicted):\n",
    "    ## Accuracy\n",
    "    accuracy = round(accuracy_score(y_actual, y_predicted), 3)\n",
    "    ## F1 score\n",
    "    f1 = round(f1_score(y_actual, y_predicted), 3)\n",
    "    \n",
    "    print(f'Training Scores: Accuracy={accuracy}, F1-Score={f1}')\n",
    "    \n",
    "## Function to Validate the model\n",
    "def validation(y_actual, y_predicted):\n",
    "    ## Accuracy\n",
    "    accuracy = round(accuracy_score(y_actual, y_predicted), 3)\n",
    "    ## F1 score\n",
    "    f1 = round(f1_score(y_actual, y_predicted), 3)\n",
    "    \n",
    "    print(f'Validation Scores: Accuracy={accuracy}, F1-Score={f1}')"
   ]
  },
  {
   "cell_type": "code",
   "execution_count": 19,
   "id": "0e3a06a3",
   "metadata": {},
   "outputs": [
    {
     "name": "stdout",
     "output_type": "stream",
     "text": [
      "Training Scores: Accuracy=0.959, F1-Score=0.958\n",
      "Validation Scores: Accuracy=0.923, F1-Score=0.586\n"
     ]
    }
   ],
   "source": [
    "## Using LinerRegression model\n",
    "Model1 = LogisticRegression()\n",
    "Model1.fit(X_train_sm, y_train_sm)\n",
    "\n",
    "y_train_pred = Model1.predict(X_train_sm)\n",
    "y_test_pred = Model1.predict(X_test_vector)\n",
    "\n",
    "Training(y_train_sm, y_train_pred)\n",
    "validation(test_y, y_test_pred)\n"
   ]
  },
  {
   "cell_type": "code",
   "execution_count": 20,
   "id": "121fe269",
   "metadata": {},
   "outputs": [
    {
     "name": "stdout",
     "output_type": "stream",
     "text": [
      "Training Scores: Accuracy=0.961, F1-Score=0.962\n",
      "Validation Scores: Accuracy=0.895, F1-Score=0.535\n"
     ]
    }
   ],
   "source": [
    "## Using MultinomialNB Model\n",
    "Model2 = MultinomialNB()\n",
    "Model2.fit(X_train_sm, y_train_sm)\n",
    "\n",
    "y_train_pred = Model2.predict(X_train_sm)\n",
    "y_test_pred = Model2.predict(X_test_vector)\n",
    "\n",
    "Training(y_train_sm, y_train_pred)\n",
    "validation(test_y, y_test_pred)"
   ]
  },
  {
   "cell_type": "code",
   "execution_count": 21,
   "id": "519d843d",
   "metadata": {},
   "outputs": [
    {
     "name": "stdout",
     "output_type": "stream",
     "text": [
      "Training Scores: Accuracy=1.0, F1-Score=1.0\n",
      "Validation Scores: Accuracy=0.956, F1-Score=0.639\n"
     ]
    }
   ],
   "source": [
    "## Using RandomForestClassifier model\n",
    "Model3 = RandomForestClassifier()\n",
    "Model3.fit(X_train_sm, y_train_sm)\n",
    "\n",
    "y_train_pred = Model3.predict(X_train_sm)\n",
    "y_test_pred = Model3.predict(X_test_vector)\n",
    "\n",
    "Training(y_train_sm, y_train_pred)\n",
    "validation(test_y, y_test_pred)"
   ]
  },
  {
   "cell_type": "markdown",
   "id": "c70dbd3b",
   "metadata": {},
   "source": [
    "### Out of the Models tried, The RandomForestClassifier give the most accurate Result hence we will persist with this model"
   ]
  },
  {
   "cell_type": "code",
   "execution_count": 22,
   "id": "21918dc7",
   "metadata": {},
   "outputs": [
    {
     "name": "stdout",
     "output_type": "stream",
     "text": [
      "Training Scores: Accuracy=0.999, F1-Score=0.999\n",
      "Validation Scores: Accuracy=0.954, F1-Score=0.648\n"
     ]
    }
   ],
   "source": [
    "Model = RandomForestClassifier(criterion='entropy', max_samples=0.8, min_samples_split=10, random_state=0)\n",
    "Model.fit(X_train_sm, y_train_sm)\n",
    "\n",
    "y_train_pred = Model.predict(X_train_sm)\n",
    "y_test_pred = Model.predict(X_test_vector)\n",
    "\n",
    "Training(y_train_sm, y_train_pred)\n",
    "validation(test_y, y_test_pred)"
   ]
  },
  {
   "cell_type": "markdown",
   "id": "39ce3734",
   "metadata": {},
   "source": [
    "### Saving the Model using joblib"
   ]
  },
  {
   "cell_type": "code",
   "execution_count": 24,
   "id": "c296b010",
   "metadata": {},
   "outputs": [
    {
     "data": {
      "text/plain": [
       "['Tweet_analysis.joblib']"
      ]
     },
     "execution_count": 24,
     "metadata": {},
     "output_type": "execute_result"
    }
   ],
   "source": [
    "from joblib import dump, load\n",
    "dump(Model, 'Tweet_analysis.joblib')"
   ]
  },
  {
   "cell_type": "markdown",
   "id": "e4b1b63b",
   "metadata": {},
   "source": [
    "### we need to load to use the model"
   ]
  },
  {
   "cell_type": "code",
   "execution_count": 31,
   "id": "92d3b0ef",
   "metadata": {},
   "outputs": [
    {
     "name": "stdout",
     "output_type": "stream",
     "text": [
      "[0]\n"
     ]
    }
   ],
   "source": [
    "model = load('Tweet_analysis.joblib')\n",
    "Tweet = \"i Love India\"\n",
    "Tweet = Delete(Tweet)\n",
    "Tweet = vector.transform([Tweet])\n",
    "print(Model.predict(Tweet))"
   ]
  },
  {
   "cell_type": "code",
   "execution_count": null,
   "id": "22e5b439",
   "metadata": {},
   "outputs": [],
   "source": []
  }
 ],
 "metadata": {
  "kernelspec": {
   "display_name": "Python 3 (ipykernel)",
   "language": "python",
   "name": "python3"
  },
  "language_info": {
   "codemirror_mode": {
    "name": "ipython",
    "version": 3
   },
   "file_extension": ".py",
   "mimetype": "text/x-python",
   "name": "python",
   "nbconvert_exporter": "python",
   "pygments_lexer": "ipython3",
   "version": "3.9.12"
  }
 },
 "nbformat": 4,
 "nbformat_minor": 5
}
